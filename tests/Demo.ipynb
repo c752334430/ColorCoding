{
 "cells": [
  {
   "cell_type": "code",
   "execution_count": 1,
   "metadata": {},
   "outputs": [],
   "source": [
    "import networkx as nx\n",
    "import numpy as np\n",
    "import math\n",
    "import matplotlib.pyplot as plt"
   ]
  },
  {
   "cell_type": "code",
   "execution_count": 2,
   "metadata": {},
   "outputs": [],
   "source": [
    "class HashFamily():\n",
    "    \"\"\"Universal hash family\n",
    "    Args:\n",
    "        bins (int): Number of bins to hash to. Better if a prime number.\n",
    "        moduler (int,optional): Temporary hashing. Has to be a prime number.\n",
    "    \"\"\"\n",
    "    def __init__(self, bins, moduler=None):\n",
    "        if moduler and moduler <= bins:\n",
    "            raise ValueError(\"p (moduler) should be >> m (buckets)\")\n",
    "\n",
    "        self.bins = bins\n",
    "        self.moduler = moduler if moduler else self._next_prime(np.random.randint(self.bins + 1, 2**32))\n",
    "\n",
    "        # do not allow same a and b, as it could mean shifted hashes\n",
    "        self.sampled_a = set()\n",
    "        self.sampled_b = set()\n",
    "\n",
    "    def _is_prime(self, x):\n",
    "        \"\"\"Naive is prime test.\"\"\"\n",
    "        for i in range(2, int(np.sqrt(x))):\n",
    "            if x % i == 0:\n",
    "                return False\n",
    "        return True\n",
    "\n",
    "    def _next_prime(self, n):\n",
    "        \"\"\"Naively gets the next prime larger than n.\"\"\"\n",
    "        while not self._is_prime(n):\n",
    "            n += 1\n",
    "\n",
    "        return n\n",
    "\n",
    "    def draw_hash(self, a=None, b=None):\n",
    "        \"\"\"Draws a single hash function from the family.\"\"\"\n",
    "        if a is None:\n",
    "            while a is None or a in self.sampled_a:\n",
    "                a = np.random.randint(1, self.moduler - 1)\n",
    "                assert len(self.sampled_a) < self.moduler - 2, \"please give a bigger moduler\"\n",
    "\n",
    "            self.sampled_a.add(a)\n",
    "        if b is None:\n",
    "            while b is None or b in self.sampled_b:\n",
    "                b = np.random.randint(0, self.moduler - 1)\n",
    "                assert len(self.sampled_b) < self.moduler - 1, \"please give a bigger moduler\"\n",
    "\n",
    "            self.sampled_b.add(b)\n",
    "\n",
    "        return lambda x: ((a * x + b) % self.moduler) % self.bins\n",
    "\n",
    "    def draw_hashes(self, n, **kwargs):\n",
    "        \"\"\"Draws n hash function from the family.\"\"\"\n",
    "        return [self.draw_hash() for i in range(n)]"
   ]
  },
  {
   "cell_type": "code",
   "execution_count": 3,
   "metadata": {},
   "outputs": [],
   "source": [
    "def power2(color):\n",
    "    return 2**(color)\n",
    "\n",
    "def dp_helper(dp_mat, cur_color, G, colors, k, khop_set, start_node, subgraph='path'):\n",
    "    new_khop_set = set()\n",
    "    if len(khop_set)==0:\n",
    "        return []\n",
    "    for col in range(dp_mat.shape[1]):\n",
    "#         find the correct columns representing current number of color\n",
    "        if bin(col).count(\"1\")!=cur_color-1:\n",
    "            continue\n",
    "        for v in khop_set:\n",
    "            if dp_mat[v][col]>0:\n",
    "                for neighbor in G[v]:\n",
    "                    aggregate_color = (power2(colors[neighbor])|col)\n",
    "                    if bin(aggregate_color).count(\"1\")==cur_color:\n",
    "                        new_khop_set.add(neighbor)\n",
    "                        dp_mat[neighbor][aggregate_color] = 1\n",
    "    if cur_color==k:\n",
    "        if subgraph=='path':\n",
    "            return np.where(dp_mat[:,-1]==1)[0]\n",
    "        elif subgraph=='cycle':\n",
    "            return set(np.where(dp_mat[:,-1]==1)[0]) & set(G[start_node])\n",
    "    return dp_helper(dp_mat, cur_color+1, G, colors, k, new_khop_set, start_node, subgraph)\n",
    "        \n",
    "def backtrack(dp_mat, G, colors, target, s, prev_path, prev_colors, verbose):\n",
    "    if target==s:\n",
    "        if verbose:\n",
    "            print(prev_path)\n",
    "        global_path.add(','.join(prev_path))\n",
    "        prev_path.pop()\n",
    "        return 1\n",
    "    count = 0\n",
    "    for neigh in G[target]:\n",
    "        not_visited = dp_mat.shape[1]-1^prev_colors\n",
    "        if is_set(prev_colors, colors[neigh]):\n",
    "            continue\n",
    "        if dp_mat[neigh][not_visited]>0:\n",
    "            count += backtrack(dp_mat, G, colors, neigh, s, prev_path+[str(neigh)], set_bit(prev_colors, colors[neigh]), verbose)\n",
    "    prev_path.pop()\n",
    "    return count\n",
    "    \n",
    "def colorful_subgraph(G, colors, k, s, subgraph_type, get_detail=True, verbose=False):\n",
    "    \"\"\"Detect if colorful path exists fom s to any node by dynamic programming.\n",
    "    Args:\n",
    "        G (nx.Graph): with n nodes and m edges\n",
    "        colors (list): list of integers represents node colors\n",
    "        k (int): number of colors \n",
    "        s (int): starting node\n",
    "        subgraph (str): 'path' or 'cycle'\n",
    "    Return:\n",
    "        List: nodes connect to s with at least one colorful path\n",
    "    \"\"\"\n",
    "    n = G.number_of_nodes()\n",
    "    col = 2**k\n",
    "    dp_mat = np.zeros((n, col))\n",
    "    dp_mat[s][power2(colors[s])] = 1\n",
    "    targets = dp_helper(dp_mat, 2, G, colors, k, set([s]), s, subgraph_type)\n",
    "    if not get_detail:\n",
    "        return targets\n",
    "    else:\n",
    "        empty_color = 0\n",
    "        total_count = 0\n",
    "        for target in targets:\n",
    "            total_count += backtrack(dp_mat, G, colors, target, s, [str(target)], set_bit(empty_color, colors[target]), verbose)\n",
    "        if verbose:\n",
    "            print('from node', s, 'find in total', total_count, 'colorful paths of length', k)\n",
    "        return total_count\n",
    "\n",
    "def color_by_hashes(G, k, repeat, modulor=None):\n",
    "    hashes = HashFamily(k, modulor)\n",
    "    hash_list = hashes.draw_hashes(repeat)\n",
    "    color_list = []\n",
    "    for hashF in hash_list:\n",
    "        color_list.append([hashF(i) for i in G.nodes])\n",
    "    return color_list"
   ]
  },
  {
   "cell_type": "code",
   "execution_count": 4,
   "metadata": {},
   "outputs": [],
   "source": [
    "def colorful_cycle(G, colors, k, s):\n",
    "    n = G.number_of_nodes()\n",
    "    col = 2**k\n",
    "    dp_mat = np.zeros((n, col))\n",
    "    dp_mat[s][power2(colors[s])] = 1\n",
    "    return dp_helper(dp_mat, 2, G, colors, k, set([s]), s, 'cycle')"
   ]
  },
  {
   "cell_type": "code",
   "execution_count": 30,
   "metadata": {},
   "outputs": [],
   "source": [
    "def is_set(x, n):\n",
    "    '''\n",
    "    Check if bit n of integer x is set.\n",
    "    '''\n",
    "    return x & 1 << n != 0\n",
    "\n",
    "def set_bit(x, n):\n",
    "    return x | (1<<n)\n",
    "\n",
    "\n",
    "def backtrack(dp_mat, G, colors, target, s, prev_path, prev_colors, verbose):\n",
    "    if target==s:\n",
    "        if verbose:\n",
    "            print(prev_path)\n",
    "        global_path.add(','.join(prev_path))\n",
    "        prev_path.pop()\n",
    "        return 1\n",
    "    count = 0\n",
    "    for neigh in G[target]:\n",
    "        not_visited = dp_mat.shape[1]-1^prev_colors\n",
    "        if is_set(prev_colors, colors[neigh]):\n",
    "            continue\n",
    "        if dp_mat[neigh][not_visited]>0:\n",
    "            count += backtrack(dp_mat, G, colors, neigh, s, prev_path+[str(neigh)], set_bit(prev_colors, colors[neigh]), verbose)\n",
    "    prev_path.pop()\n",
    "    return count\n",
    "     \n",
    "def find_subgraph(G, k, subgraph, color_repeat, get_detail=True, verbose=False, plot=True):\n",
    "    count = 0 \n",
    "    global global_path\n",
    "    global_path = set()\n",
    "    \n",
    "    repeat = math.ceil(math.exp(k))\n",
    "    colors = color_by_hashes(G, k, repeat, modulor=97)\n",
    "    for color in colors:\n",
    "        if plot:\n",
    "            nx.draw(G, node_color=color, with_labels=True)\n",
    "            plt.show()\n",
    "        for i in G.nodes():\n",
    "            tmp_res = colorful_subgraph(G, color, k, i, subgraph, get_detail, verbose)\n",
    "    #         print(i, tmp_res)\n",
    "        count += 1\n",
    "        if count >= color_repeat:\n",
    "            break\n",
    "    print('set of', subgraph, 'found:', global_path)"
   ]
  },
  {
   "cell_type": "code",
   "execution_count": null,
   "metadata": {},
   "outputs": [],
   "source": []
  },
  {
   "cell_type": "code",
   "execution_count": 6,
   "metadata": {},
   "outputs": [],
   "source": [
    "# Demo for correctness\n",
    "G = nx.erdos_renyi_graph(10, 0.2)\n"
   ]
  },
  {
   "cell_type": "code",
   "execution_count": 31,
   "metadata": {},
   "outputs": [
    {
     "data": {
      "image/png": "[encoded data removed]",
      "text/plain": [
       "<Figure size 432x288 with 1 Axes>"
      ]
     },
     "metadata": {},
     "output_type": "display_data"
    },
    {
     "name": "stdout",
     "output_type": "stream",
     "text": [
      "set of path found: {'5,7,4', '9,7,0', '5,9,7', '7,5,9', '0,7,4', '0,7,9', '4,7,0', '4,7,5', '9,5,7', '9,7,5', '7,9,5', '4,8,0', '5,7,9', '0,8,4'}\n"
     ]
    }
   ],
   "source": [
    "\n",
    "find_subgraph(G, 3, 'path', 1, get_detail=True, verbose=False, plot=True)"
   ]
  },
  {
   "cell_type": "code",
   "execution_count": 33,
   "metadata": {},
   "outputs": [
    {
     "data": {
      "image/png": "[encoded data removed]",
      "text/plain": [
       "<Figure size 432x288 with 1 Axes>"
      ]
     },
     "metadata": {},
     "output_type": "display_data"
    },
    {
     "name": "stdout",
     "output_type": "stream",
     "text": [
      "set of cycle found: {'7,5,0', '0,5,7', '5,9,7', '5,7,0', '7,0,5', '7,5,9', '9,5,7', '5,0,7', '9,7,5', '7,9,5', '0,7,5', '5,7,9'}\n"
     ]
    }
   ],
   "source": [
    "\n",
    "find_subgraph(G, 3, 'cycle', 1, get_detail=True, verbose=False, plot=True)"
   ]
  },
  {
   "cell_type": "code",
   "execution_count": null,
   "metadata": {},
   "outputs": [],
   "source": []
  }
 ],
 "metadata": {
  "kernelspec": {
   "display_name": "gt",
   "language": "python",
   "name": "gt"
  },
  "language_info": {
   "codemirror_mode": {
    "name": "ipython",
    "version": 3
   },
   "file_extension": ".py",
   "mimetype": "text/x-python",
   "name": "python",
   "nbconvert_exporter": "python",
   "pygments_lexer": "ipython3",
   "version": "3.8.8"
  }
 },
 "nbformat": 4,
 "nbformat_minor": 4
}
