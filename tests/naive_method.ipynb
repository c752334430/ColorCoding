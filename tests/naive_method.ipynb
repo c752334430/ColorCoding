{
  "nbformat": 4,
  "nbformat_minor": 0,
  "metadata": {
    "colab": {
      "name": "naive method.ipynb",
      "provenance": [],
      "collapsed_sections": []
    },
    "kernelspec": {
      "name": "python3",
      "display_name": "Python 3"
    },
    "language_info": {
      "name": "python"
    }
  },
  "cells": [
    {
      "cell_type": "code",
      "metadata": {
        "id": "hJ7rw_EWUAPI"
      },
      "source": [
        "import networkx as nx"
      ],
      "execution_count": 1,
      "outputs": []
    },
    {
      "cell_type": "code",
      "metadata": {
        "colab": {
          "base_uri": "https://localhost:8080/",
          "height": 319
        },
        "id": "23EpXQKjUaHN",
        "outputId": "249e745a-5895-4de4-c999-ad8c2a2f4af5"
      },
      "source": [
        "# Demo for correctness\n",
        "G = nx.erdos_renyi_graph(10, 0.3)\n",
        "nx.draw(G, with_labels=True)"
      ],
      "execution_count": 2,
      "outputs": [
        {
          "output_type": "display_data",
          "data": {
            "image/png": "[encoded data removed]",
            "text/plain": [
              "<Figure size 432x288 with 1 Axes>"
            ]
          },
          "metadata": {}
        }
      ]
    },
    {
      "cell_type": "code",
      "metadata": {
        "id": "aa54CxiFLKn7"
      },
      "source": [
        "def find_path(G, start_node, k, paths):\n",
        "    \"\"\"Find all k-length paths that start from current node.\n",
        "    Args:\n",
        "        G (nx.Graph): with n nodes and m edges.\n",
        "        start_node (int): the paths should start from this node.\n",
        "        k (int): the length of paths we need to find.\n",
        "        paths (list): current paths we found.\n",
        "    Output:\n",
        "        paths (list): all the paths that satisfied conditions.\n",
        "    \"\"\"\n",
        "    backtrack(G, G[start_node], [str(start_node)], k, paths)\n",
        "\n",
        "\n",
        "def backtrack(G, neighbors ,current_path, k, paths):\n",
        "    \"\"\"\n",
        "    Args:\n",
        "        G (nx.Graph): with n nodes and m edges.\n",
        "        neighbors (list): list of string contains neighbor (connected) nodes.\n",
        "        current_path (list): list of string contains nodes currently in the path.\n",
        "        k (int): the length of paths we need to find.\n",
        "        paths (list): current paths we found.\n",
        "    Output:\n",
        "        None.\n",
        "    \"\"\"\n",
        "    if (len(current_path) == k):\n",
        "        return paths.append(current_path[:])\n",
        "\n",
        "    for node in neighbors:\n",
        "        if str(node) not in current_path:\n",
        "            current_path.append(str(node))\n",
        "            backtrack(G, G[node], current_path, k, paths)\n",
        "            current_path.pop()"
      ],
      "execution_count": 3,
      "outputs": []
    },
    {
      "cell_type": "code",
      "metadata": {
        "id": "ux89sJ3S_Dvn"
      },
      "source": [
        "def find_paths_for_all_nodes(G, k):\n",
        "    \"\"\" Find all the paths for all nodes in the garph.\n",
        "    Args:\n",
        "        G (nx.Graph): with n nodes and m edges.\n",
        "        k (int): the length of paths we need to find.\n",
        "    Output:\n",
        "        paths_for_nodes (dict): k length paths for each node in G\n",
        "    \"\"\"\n",
        "    paths_for_nodes = dict()\n",
        "    for node in G.nodes:\n",
        "        paths = []\n",
        "        find_path(G, node, k, paths)\n",
        "        paths_for_nodes[node] = paths\n",
        "    return paths_for_nodes"
      ],
      "execution_count": 4,
      "outputs": []
    },
    {
      "cell_type": "code",
      "metadata": {
        "colab": {
          "base_uri": "https://localhost:8080/"
        },
        "id": "GEO4FZZIBcra",
        "outputId": "830bf5d0-f386-4218-be5f-b9fd45299626"
      },
      "source": [
        "find_paths_for_all_nodes(G, 3)"
      ],
      "execution_count": 5,
      "outputs": [
        {
          "output_type": "execute_result",
          "data": {
            "text/plain": [
              "{0: [['0', '1', '3'],\n",
              "  ['0', '1', '5'],\n",
              "  ['0', '3', '1'],\n",
              "  ['0', '4', '6'],\n",
              "  ['0', '4', '7'],\n",
              "  ['0', '9', '6']],\n",
              " 1: [['1', '0', '3'],\n",
              "  ['1', '0', '4'],\n",
              "  ['1', '0', '9'],\n",
              "  ['1', '3', '0'],\n",
              "  ['1', '5', '6'],\n",
              "  ['1', '5', '7']],\n",
              " 2: [['2', '6', '4'],\n",
              "  ['2', '6', '5'],\n",
              "  ['2', '6', '8'],\n",
              "  ['2', '6', '9'],\n",
              "  ['2', '7', '4'],\n",
              "  ['2', '7', '5']],\n",
              " 3: [['3', '0', '1'],\n",
              "  ['3', '0', '4'],\n",
              "  ['3', '0', '9'],\n",
              "  ['3', '1', '0'],\n",
              "  ['3', '1', '5']],\n",
              " 4: [['4', '0', '1'],\n",
              "  ['4', '0', '3'],\n",
              "  ['4', '0', '9'],\n",
              "  ['4', '6', '2'],\n",
              "  ['4', '6', '5'],\n",
              "  ['4', '6', '8'],\n",
              "  ['4', '6', '9'],\n",
              "  ['4', '7', '2'],\n",
              "  ['4', '7', '5']],\n",
              " 5: [['5', '1', '0'],\n",
              "  ['5', '1', '3'],\n",
              "  ['5', '6', '2'],\n",
              "  ['5', '6', '4'],\n",
              "  ['5', '6', '8'],\n",
              "  ['5', '6', '9'],\n",
              "  ['5', '7', '2'],\n",
              "  ['5', '7', '4']],\n",
              " 6: [['6', '2', '7'],\n",
              "  ['6', '4', '0'],\n",
              "  ['6', '4', '7'],\n",
              "  ['6', '5', '1'],\n",
              "  ['6', '5', '7'],\n",
              "  ['6', '9', '0']],\n",
              " 7: [['7', '2', '6'],\n",
              "  ['7', '4', '0'],\n",
              "  ['7', '4', '6'],\n",
              "  ['7', '5', '1'],\n",
              "  ['7', '5', '6']],\n",
              " 8: [['8', '6', '2'], ['8', '6', '4'], ['8', '6', '5'], ['8', '6', '9']],\n",
              " 9: [['9', '0', '1'],\n",
              "  ['9', '0', '3'],\n",
              "  ['9', '0', '4'],\n",
              "  ['9', '6', '2'],\n",
              "  ['9', '6', '4'],\n",
              "  ['9', '6', '5'],\n",
              "  ['9', '6', '8']]}"
            ]
          },
          "metadata": {},
          "execution_count": 5
        }
      ]
    }
  ]
}